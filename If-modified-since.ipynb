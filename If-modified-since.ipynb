{
 "cells": [
  {
   "cell_type": "code",
   "execution_count": 1,
   "metadata": {
    "collapsed": true
   },
   "outputs": [],
   "source": [
    "import requests\n",
    "\n",
    "headers = {'User-Agent':'Mozilla/5.0 (Windows NT 10.0; WOW64) AppleWebKit/537.36 (KHTML, like Gecko) Chrome/56.0.2924.87 Safari/537.36'}"
   ]
  },
  {
   "cell_type": "code",
   "execution_count": 2,
   "metadata": {
    "collapsed": true
   },
   "outputs": [],
   "source": [
    "url = 'https://itunes.apple.com/cn/app/%E7%8E%8B%E8%80%85%E8%8D%A3%E8%80%80/id989673964'"
   ]
  },
  {
   "cell_type": "code",
   "execution_count": 3,
   "metadata": {
    "collapsed": true
   },
   "outputs": [],
   "source": [
    "z = requests.get(url,headers=headers)"
   ]
  },
  {
   "cell_type": "code",
   "execution_count": 4,
   "metadata": {
    "collapsed": false
   },
   "outputs": [
    {
     "data": {
      "text/plain": [
       "{'Content-Length': '32854', 'Last-Modified': 'Wed, 29 Mar 2017 12:43:07 GMT', 'x-apple-translated-wo-url': '/WebObjects/MZStore.woa/wa/viewSoftware?id=989673964&cc=cn&urlDesc=/%E7%8E%8B%E8%80%85%E8%8D%A3%E8%80%80', 'Access-Control-Allow-Origin': '*', 'x-webobjects-loadaverage': '0', 'X-Via': '1.1 anxun16:3 (Cdn Cache Server V2.0), 1.1 hjf227:8 (Cdn Cache Server V2.0)', 'x-apple-orig-url': 'https://itunes.apple.com/cn/app/%E7%8E%8B%E8%80%85%E8%8D%A3%E8%80%80/id989673964', 'x-apple-jingle-correlation-key': 'WCKYPCPHLCMKNGDGQK2WDZS4RE', 'x-apple-application-site': 'ST11', 'Date': 'Wed, 29 Mar 2017 12:46:05 GMT', 'apple-tk': 'false', 'X-Cache': 'MISS from cache.51cdn.com', 'Server': 'ATS/4.1.0', 'Connection': 'keep-alive', 'apple-seq': '0', 'x-apple-application-instance': '2002902', 'X-Apple-Partner': 'origin.0', 'X-Apple-ATS-Cache-Key': '/17.173.38.164/80/cn/app/%E7%8E%8B%E8%80%85%E8%8D%A3%E8%80%80/id989673964/browser/https/CN', 'Content-Encoding': 'gzip', 'Content-Type': 'text/html; charset=UTF-8', 'strict-transport-security': 'max-age=31536000', 'Vary': 'Cookie, X-Apple-Store-Front, Accept-Encoding', 'apple-timing-app': '121 ms', 'Cache-Control': 'public,no-transform,max-age=60', 'x-apple-request-uuid': 'b0958789-e758-98a6-9866-82b561e65c89', 'x-frame-options': 'SAMEORIGIN', 'user-country': 'CN', 'apple-originating-system': 'MZStore'}"
      ]
     },
     "execution_count": 4,
     "metadata": {},
     "output_type": "execute_result"
    }
   ],
   "source": [
    "z.headers"
   ]
  },
  {
   "cell_type": "code",
   "execution_count": 5,
   "metadata": {
    "collapsed": false
   },
   "outputs": [],
   "source": [
    "# 获取上次修改时间\n",
    "last_modified = z.headers['Last-Modified']"
   ]
  },
  {
   "cell_type": "code",
   "execution_count": 6,
   "metadata": {
    "collapsed": false
   },
   "outputs": [],
   "source": [
    "# 修改headers\n",
    "headers['If-Modified-Since'] = last_modified"
   ]
  },
  {
   "cell_type": "markdown",
   "metadata": {},
   "source": [
    "## 方法1"
   ]
  },
  {
   "cell_type": "code",
   "execution_count": 7,
   "metadata": {
    "collapsed": false
   },
   "outputs": [],
   "source": [
    "z1 = requests.get(url,headers=headers)"
   ]
  },
  {
   "cell_type": "code",
   "execution_count": 8,
   "metadata": {
    "collapsed": false,
    "deletable": true,
    "editable": true
   },
   "outputs": [
    {
     "data": {
      "text/plain": [
       "304"
      ]
     },
     "execution_count": 8,
     "metadata": {},
     "output_type": "execute_result"
    }
   ],
   "source": [
    "z1.status_code"
   ]
  },
  {
   "cell_type": "markdown",
   "metadata": {},
   "source": [
    "## 方法2"
   ]
  },
  {
   "cell_type": "code",
   "execution_count": 9,
   "metadata": {
    "collapsed": false
   },
   "outputs": [],
   "source": [
    "z2 = requests.head(url,headers=headers)"
   ]
  },
  {
   "cell_type": "code",
   "execution_count": 10,
   "metadata": {
    "collapsed": false
   },
   "outputs": [
    {
     "name": "stdout",
     "output_type": "stream",
     "text": [
      "网页没有更新\n"
     ]
    }
   ],
   "source": [
    "if z1.headers['Last-Modified'] == last_modified:\n",
    "    print u'网页没有更新'"
   ]
  },
  {
   "cell_type": "code",
   "execution_count": null,
   "metadata": {
    "collapsed": true
   },
   "outputs": [],
   "source": []
  }
 ],
 "metadata": {
  "kernelspec": {
   "display_name": "Python 2",
   "language": "python",
   "name": "python2"
  },
  "language_info": {
   "codemirror_mode": {
    "name": "ipython",
    "version": 2
   },
   "file_extension": ".py",
   "mimetype": "text/x-python",
   "name": "python",
   "nbconvert_exporter": "python",
   "pygments_lexer": "ipython2",
   "version": "2.7.13"
  }
 },
 "nbformat": 4,
 "nbformat_minor": 2
}
